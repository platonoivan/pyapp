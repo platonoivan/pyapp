{
 "cells": [
  {
   "cell_type": "code",
   "execution_count": 3,
   "metadata": {},
   "outputs": [],
   "source": [
    "import pandas as pd"
   ]
  },
  {
   "cell_type": "code",
   "execution_count": 4,
   "metadata": {},
   "outputs": [],
   "source": [
    "df = pd.read_csv('cardioActivities.csv', parse_dates=True, index_col='Date')"
   ]
  },
  {
   "cell_type": "code",
   "execution_count": 5,
   "metadata": {},
   "outputs": [
    {
     "data": {
      "text/html": [
       "<div>\n",
       "<style scoped>\n",
       "    .dataframe tbody tr th:only-of-type {\n",
       "        vertical-align: middle;\n",
       "    }\n",
       "\n",
       "    .dataframe tbody tr th {\n",
       "        vertical-align: top;\n",
       "    }\n",
       "\n",
       "    .dataframe thead th {\n",
       "        text-align: right;\n",
       "    }\n",
       "</style>\n",
       "<table border=\"1\" class=\"dataframe\">\n",
       "  <thead>\n",
       "    <tr style=\"text-align: right;\">\n",
       "      <th></th>\n",
       "      <th>Activity Id</th>\n",
       "      <th>Type</th>\n",
       "      <th>Route Name</th>\n",
       "      <th>Distance (km)</th>\n",
       "      <th>Duration</th>\n",
       "      <th>Average Pace</th>\n",
       "      <th>Average Speed (km/h)</th>\n",
       "      <th>Calories Burned</th>\n",
       "      <th>Climb (m)</th>\n",
       "      <th>Average Heart Rate (bpm)</th>\n",
       "      <th>Friend's Tagged</th>\n",
       "      <th>Notes</th>\n",
       "      <th>GPX File</th>\n",
       "    </tr>\n",
       "    <tr>\n",
       "      <th>Date</th>\n",
       "      <th></th>\n",
       "      <th></th>\n",
       "      <th></th>\n",
       "      <th></th>\n",
       "      <th></th>\n",
       "      <th></th>\n",
       "      <th></th>\n",
       "      <th></th>\n",
       "      <th></th>\n",
       "      <th></th>\n",
       "      <th></th>\n",
       "      <th></th>\n",
       "      <th></th>\n",
       "    </tr>\n",
       "  </thead>\n",
       "  <tbody>\n",
       "    <tr>\n",
       "      <th>2018-11-11 14:05:12</th>\n",
       "      <td>c9627fed-14ac-47a2-bed3-2a2630c63c15</td>\n",
       "      <td>Running</td>\n",
       "      <td>NaN</td>\n",
       "      <td>10.44</td>\n",
       "      <td>58:40</td>\n",
       "      <td>5:37</td>\n",
       "      <td>10.68</td>\n",
       "      <td>774.0</td>\n",
       "      <td>130</td>\n",
       "      <td>159.0</td>\n",
       "      <td>NaN</td>\n",
       "      <td>NaN</td>\n",
       "      <td>2018-11-11-140512.gpx</td>\n",
       "    </tr>\n",
       "    <tr>\n",
       "      <th>2018-11-09 15:02:35</th>\n",
       "      <td>be65818d-a801-4847-a43b-2acdf4dc70e7</td>\n",
       "      <td>Running</td>\n",
       "      <td>NaN</td>\n",
       "      <td>12.84</td>\n",
       "      <td>1:14:12</td>\n",
       "      <td>5:47</td>\n",
       "      <td>10.39</td>\n",
       "      <td>954.0</td>\n",
       "      <td>168</td>\n",
       "      <td>159.0</td>\n",
       "      <td>NaN</td>\n",
       "      <td>NaN</td>\n",
       "      <td>2018-11-09-150235.gpx</td>\n",
       "    </tr>\n",
       "    <tr>\n",
       "      <th>2018-11-04 16:05:00</th>\n",
       "      <td>c09b2f92-f855-497c-b624-c196b3ef036c</td>\n",
       "      <td>Running</td>\n",
       "      <td>NaN</td>\n",
       "      <td>13.01</td>\n",
       "      <td>1:15:16</td>\n",
       "      <td>5:47</td>\n",
       "      <td>10.37</td>\n",
       "      <td>967.0</td>\n",
       "      <td>171</td>\n",
       "      <td>155.0</td>\n",
       "      <td>NaN</td>\n",
       "      <td>NaN</td>\n",
       "      <td>2018-11-04-160500.gpx</td>\n",
       "    </tr>\n",
       "    <tr>\n",
       "      <th>2018-11-01 14:03:58</th>\n",
       "      <td>bc9b612d-3499-43ff-b82a-9b17b71b8a36</td>\n",
       "      <td>Running</td>\n",
       "      <td>NaN</td>\n",
       "      <td>12.98</td>\n",
       "      <td>1:14:25</td>\n",
       "      <td>5:44</td>\n",
       "      <td>10.47</td>\n",
       "      <td>960.0</td>\n",
       "      <td>169</td>\n",
       "      <td>158.0</td>\n",
       "      <td>NaN</td>\n",
       "      <td>NaN</td>\n",
       "      <td>2018-11-01-140358.gpx</td>\n",
       "    </tr>\n",
       "    <tr>\n",
       "      <th>2018-10-27 17:01:36</th>\n",
       "      <td>972567b2-1b0e-437c-9e82-fef8078d6438</td>\n",
       "      <td>Running</td>\n",
       "      <td>NaN</td>\n",
       "      <td>13.02</td>\n",
       "      <td>1:12:50</td>\n",
       "      <td>5:36</td>\n",
       "      <td>10.73</td>\n",
       "      <td>967.0</td>\n",
       "      <td>170</td>\n",
       "      <td>154.0</td>\n",
       "      <td>NaN</td>\n",
       "      <td>NaN</td>\n",
       "      <td>2018-10-27-170136.gpx</td>\n",
       "    </tr>\n",
       "    <tr>\n",
       "      <th>...</th>\n",
       "      <td>...</td>\n",
       "      <td>...</td>\n",
       "      <td>...</td>\n",
       "      <td>...</td>\n",
       "      <td>...</td>\n",
       "      <td>...</td>\n",
       "      <td>...</td>\n",
       "      <td>...</td>\n",
       "      <td>...</td>\n",
       "      <td>...</td>\n",
       "      <td>...</td>\n",
       "      <td>...</td>\n",
       "      <td>...</td>\n",
       "    </tr>\n",
       "    <tr>\n",
       "      <th>2012-08-28 07:06:57</th>\n",
       "      <td>f5218490-a372-44c8-bb20-de3b91984cbe</td>\n",
       "      <td>Walking</td>\n",
       "      <td>NaN</td>\n",
       "      <td>1.57</td>\n",
       "      <td>13:39</td>\n",
       "      <td>8:41</td>\n",
       "      <td>6.91</td>\n",
       "      <td>926743.0</td>\n",
       "      <td>7</td>\n",
       "      <td>NaN</td>\n",
       "      <td>NaN</td>\n",
       "      <td>NaN</td>\n",
       "      <td>2012-08-28-070657.gpx</td>\n",
       "    </tr>\n",
       "    <tr>\n",
       "      <th>2012-08-24 12:59:42</th>\n",
       "      <td>018f66a7-da5e-4985-a8fe-725a33317c87</td>\n",
       "      <td>Walking</td>\n",
       "      <td>NaN</td>\n",
       "      <td>1.48</td>\n",
       "      <td>17:56</td>\n",
       "      <td>12:09</td>\n",
       "      <td>4.94</td>\n",
       "      <td>942192.0</td>\n",
       "      <td>12</td>\n",
       "      <td>NaN</td>\n",
       "      <td>NaN</td>\n",
       "      <td>NaN</td>\n",
       "      <td>2012-08-24-125942.gpx</td>\n",
       "    </tr>\n",
       "    <tr>\n",
       "      <th>2012-08-24 10:12:16</th>\n",
       "      <td>7acec95a-d63d-435d-837c-7befb352f500</td>\n",
       "      <td>Walking</td>\n",
       "      <td>NaN</td>\n",
       "      <td>1.49</td>\n",
       "      <td>13:43</td>\n",
       "      <td>9:14</td>\n",
       "      <td>6.49</td>\n",
       "      <td>924486.0</td>\n",
       "      <td>9</td>\n",
       "      <td>NaN</td>\n",
       "      <td>NaN</td>\n",
       "      <td>NaN</td>\n",
       "      <td>2012-08-24-101216.gpx</td>\n",
       "    </tr>\n",
       "    <tr>\n",
       "      <th>2012-08-24 08:13:12</th>\n",
       "      <td>f790bdb2-b921-4018-bd39-d59d870c5847</td>\n",
       "      <td>Running</td>\n",
       "      <td>NaN</td>\n",
       "      <td>3.15</td>\n",
       "      <td>16:00</td>\n",
       "      <td>5:05</td>\n",
       "      <td>11.82</td>\n",
       "      <td>2288868.0</td>\n",
       "      <td>17</td>\n",
       "      <td>NaN</td>\n",
       "      <td>NaN</td>\n",
       "      <td>NaN</td>\n",
       "      <td>2012-08-24-081312.gpx</td>\n",
       "    </tr>\n",
       "    <tr>\n",
       "      <th>2012-08-22 18:53:54</th>\n",
       "      <td>706d4d6b-767d-40aa-81c9-e5e85a102051</td>\n",
       "      <td>Running</td>\n",
       "      <td>NaN</td>\n",
       "      <td>5.69</td>\n",
       "      <td>31:08</td>\n",
       "      <td>5:29</td>\n",
       "      <td>10.95</td>\n",
       "      <td>4072685.0</td>\n",
       "      <td>32</td>\n",
       "      <td>NaN</td>\n",
       "      <td>NaN</td>\n",
       "      <td>NaN</td>\n",
       "      <td>2012-08-22-185354.gpx</td>\n",
       "    </tr>\n",
       "  </tbody>\n",
       "</table>\n",
       "<p>508 rows × 13 columns</p>\n",
       "</div>"
      ],
      "text/plain": [
       "                                              Activity Id     Type Route Name   \n",
       "Date                                                                            \n",
       "2018-11-11 14:05:12  c9627fed-14ac-47a2-bed3-2a2630c63c15  Running        NaN  \\\n",
       "2018-11-09 15:02:35  be65818d-a801-4847-a43b-2acdf4dc70e7  Running        NaN   \n",
       "2018-11-04 16:05:00  c09b2f92-f855-497c-b624-c196b3ef036c  Running        NaN   \n",
       "2018-11-01 14:03:58  bc9b612d-3499-43ff-b82a-9b17b71b8a36  Running        NaN   \n",
       "2018-10-27 17:01:36  972567b2-1b0e-437c-9e82-fef8078d6438  Running        NaN   \n",
       "...                                                   ...      ...        ...   \n",
       "2012-08-28 07:06:57  f5218490-a372-44c8-bb20-de3b91984cbe  Walking        NaN   \n",
       "2012-08-24 12:59:42  018f66a7-da5e-4985-a8fe-725a33317c87  Walking        NaN   \n",
       "2012-08-24 10:12:16  7acec95a-d63d-435d-837c-7befb352f500  Walking        NaN   \n",
       "2012-08-24 08:13:12  f790bdb2-b921-4018-bd39-d59d870c5847  Running        NaN   \n",
       "2012-08-22 18:53:54  706d4d6b-767d-40aa-81c9-e5e85a102051  Running        NaN   \n",
       "\n",
       "                     Distance (km) Duration Average Pace   \n",
       "Date                                                       \n",
       "2018-11-11 14:05:12          10.44    58:40         5:37  \\\n",
       "2018-11-09 15:02:35          12.84  1:14:12         5:47   \n",
       "2018-11-04 16:05:00          13.01  1:15:16         5:47   \n",
       "2018-11-01 14:03:58          12.98  1:14:25         5:44   \n",
       "2018-10-27 17:01:36          13.02  1:12:50         5:36   \n",
       "...                            ...      ...          ...   \n",
       "2012-08-28 07:06:57           1.57    13:39         8:41   \n",
       "2012-08-24 12:59:42           1.48    17:56        12:09   \n",
       "2012-08-24 10:12:16           1.49    13:43         9:14   \n",
       "2012-08-24 08:13:12           3.15    16:00         5:05   \n",
       "2012-08-22 18:53:54           5.69    31:08         5:29   \n",
       "\n",
       "                     Average Speed (km/h)  Calories Burned  Climb (m)   \n",
       "Date                                                                    \n",
       "2018-11-11 14:05:12                 10.68            774.0        130  \\\n",
       "2018-11-09 15:02:35                 10.39            954.0        168   \n",
       "2018-11-04 16:05:00                 10.37            967.0        171   \n",
       "2018-11-01 14:03:58                 10.47            960.0        169   \n",
       "2018-10-27 17:01:36                 10.73            967.0        170   \n",
       "...                                   ...              ...        ...   \n",
       "2012-08-28 07:06:57                  6.91         926743.0          7   \n",
       "2012-08-24 12:59:42                  4.94         942192.0         12   \n",
       "2012-08-24 10:12:16                  6.49         924486.0          9   \n",
       "2012-08-24 08:13:12                 11.82        2288868.0         17   \n",
       "2012-08-22 18:53:54                 10.95        4072685.0         32   \n",
       "\n",
       "                     Average Heart Rate (bpm)  Friend's Tagged Notes   \n",
       "Date                                                                   \n",
       "2018-11-11 14:05:12                     159.0              NaN   NaN  \\\n",
       "2018-11-09 15:02:35                     159.0              NaN   NaN   \n",
       "2018-11-04 16:05:00                     155.0              NaN   NaN   \n",
       "2018-11-01 14:03:58                     158.0              NaN   NaN   \n",
       "2018-10-27 17:01:36                     154.0              NaN   NaN   \n",
       "...                                       ...              ...   ...   \n",
       "2012-08-28 07:06:57                       NaN              NaN   NaN   \n",
       "2012-08-24 12:59:42                       NaN              NaN   NaN   \n",
       "2012-08-24 10:12:16                       NaN              NaN   NaN   \n",
       "2012-08-24 08:13:12                       NaN              NaN   NaN   \n",
       "2012-08-22 18:53:54                       NaN              NaN   NaN   \n",
       "\n",
       "                                  GPX File  \n",
       "Date                                        \n",
       "2018-11-11 14:05:12  2018-11-11-140512.gpx  \n",
       "2018-11-09 15:02:35  2018-11-09-150235.gpx  \n",
       "2018-11-04 16:05:00  2018-11-04-160500.gpx  \n",
       "2018-11-01 14:03:58  2018-11-01-140358.gpx  \n",
       "2018-10-27 17:01:36  2018-10-27-170136.gpx  \n",
       "...                                    ...  \n",
       "2012-08-28 07:06:57  2012-08-28-070657.gpx  \n",
       "2012-08-24 12:59:42  2012-08-24-125942.gpx  \n",
       "2012-08-24 10:12:16  2012-08-24-101216.gpx  \n",
       "2012-08-24 08:13:12  2012-08-24-081312.gpx  \n",
       "2012-08-22 18:53:54  2012-08-22-185354.gpx  \n",
       "\n",
       "[508 rows x 13 columns]"
      ]
     },
     "execution_count": 5,
     "metadata": {},
     "output_type": "execute_result"
    }
   ],
   "source": [
    "df"
   ]
  },
  {
   "cell_type": "code",
   "execution_count": 6,
   "metadata": {},
   "outputs": [
    {
     "data": {
      "text/plain": [
       "Index(['Activity Id', 'Type', 'Route Name', 'Distance (km)', 'Duration',\n",
       "       'Average Pace', 'Average Speed (km/h)', 'Calories Burned', 'Climb (m)',\n",
       "       'Average Heart Rate (bpm)', 'Friend's Tagged', 'Notes', 'GPX File'],\n",
       "      dtype='object')"
      ]
     },
     "execution_count": 6,
     "metadata": {},
     "output_type": "execute_result"
    }
   ],
   "source": [
    "df.columns"
   ]
  },
  {
   "cell_type": "code",
   "execution_count": 7,
   "metadata": {},
   "outputs": [
    {
     "name": "stdout",
     "output_type": "stream",
     "text": [
      "<class 'pandas.core.frame.DataFrame'>\n",
      "DatetimeIndex: 508 entries, 2018-11-11 14:05:12 to 2012-08-22 18:53:54\n",
      "Data columns (total 13 columns):\n",
      " #   Column                    Non-Null Count  Dtype  \n",
      "---  ------                    --------------  -----  \n",
      " 0   Activity Id               508 non-null    object \n",
      " 1   Type                      508 non-null    object \n",
      " 2   Route Name                1 non-null      object \n",
      " 3   Distance (km)             508 non-null    float64\n",
      " 4   Duration                  508 non-null    object \n",
      " 5   Average Pace              508 non-null    object \n",
      " 6   Average Speed (km/h)      508 non-null    float64\n",
      " 7   Calories Burned           508 non-null    float64\n",
      " 8   Climb (m)                 508 non-null    int64  \n",
      " 9   Average Heart Rate (bpm)  294 non-null    float64\n",
      " 10  Friend's Tagged           0 non-null      float64\n",
      " 11  Notes                     231 non-null    object \n",
      " 12  GPX File                  504 non-null    object \n",
      "dtypes: float64(5), int64(1), object(7)\n",
      "memory usage: 55.6+ KB\n"
     ]
    }
   ],
   "source": [
    "df.info()"
   ]
  },
  {
   "cell_type": "code",
   "execution_count": 8,
   "metadata": {},
   "outputs": [],
   "source": [
    "df.drop(columns=['Route Name', \"Friend's Tagged\"], inplace=True)"
   ]
  },
  {
   "cell_type": "code",
   "execution_count": 9,
   "metadata": {},
   "outputs": [
    {
     "data": {
      "text/html": [
       "<div>\n",
       "<style scoped>\n",
       "    .dataframe tbody tr th:only-of-type {\n",
       "        vertical-align: middle;\n",
       "    }\n",
       "\n",
       "    .dataframe tbody tr th {\n",
       "        vertical-align: top;\n",
       "    }\n",
       "\n",
       "    .dataframe thead th {\n",
       "        text-align: right;\n",
       "    }\n",
       "</style>\n",
       "<table border=\"1\" class=\"dataframe\">\n",
       "  <thead>\n",
       "    <tr style=\"text-align: right;\">\n",
       "      <th></th>\n",
       "      <th>Activity Id</th>\n",
       "      <th>Type</th>\n",
       "      <th>Distance (km)</th>\n",
       "      <th>Duration</th>\n",
       "      <th>Average Pace</th>\n",
       "      <th>Average Speed (km/h)</th>\n",
       "      <th>Calories Burned</th>\n",
       "      <th>Climb (m)</th>\n",
       "      <th>Average Heart Rate (bpm)</th>\n",
       "      <th>Notes</th>\n",
       "      <th>GPX File</th>\n",
       "    </tr>\n",
       "    <tr>\n",
       "      <th>Date</th>\n",
       "      <th></th>\n",
       "      <th></th>\n",
       "      <th></th>\n",
       "      <th></th>\n",
       "      <th></th>\n",
       "      <th></th>\n",
       "      <th></th>\n",
       "      <th></th>\n",
       "      <th></th>\n",
       "      <th></th>\n",
       "      <th></th>\n",
       "    </tr>\n",
       "  </thead>\n",
       "  <tbody>\n",
       "    <tr>\n",
       "      <th>2018-11-11 14:05:12</th>\n",
       "      <td>c9627fed-14ac-47a2-bed3-2a2630c63c15</td>\n",
       "      <td>Running</td>\n",
       "      <td>10.44</td>\n",
       "      <td>58:40</td>\n",
       "      <td>5:37</td>\n",
       "      <td>10.68</td>\n",
       "      <td>774.0</td>\n",
       "      <td>130</td>\n",
       "      <td>159.0</td>\n",
       "      <td>NaN</td>\n",
       "      <td>2018-11-11-140512.gpx</td>\n",
       "    </tr>\n",
       "    <tr>\n",
       "      <th>2018-11-09 15:02:35</th>\n",
       "      <td>be65818d-a801-4847-a43b-2acdf4dc70e7</td>\n",
       "      <td>Running</td>\n",
       "      <td>12.84</td>\n",
       "      <td>1:14:12</td>\n",
       "      <td>5:47</td>\n",
       "      <td>10.39</td>\n",
       "      <td>954.0</td>\n",
       "      <td>168</td>\n",
       "      <td>159.0</td>\n",
       "      <td>NaN</td>\n",
       "      <td>2018-11-09-150235.gpx</td>\n",
       "    </tr>\n",
       "    <tr>\n",
       "      <th>2018-11-04 16:05:00</th>\n",
       "      <td>c09b2f92-f855-497c-b624-c196b3ef036c</td>\n",
       "      <td>Running</td>\n",
       "      <td>13.01</td>\n",
       "      <td>1:15:16</td>\n",
       "      <td>5:47</td>\n",
       "      <td>10.37</td>\n",
       "      <td>967.0</td>\n",
       "      <td>171</td>\n",
       "      <td>155.0</td>\n",
       "      <td>NaN</td>\n",
       "      <td>2018-11-04-160500.gpx</td>\n",
       "    </tr>\n",
       "    <tr>\n",
       "      <th>2018-11-01 14:03:58</th>\n",
       "      <td>bc9b612d-3499-43ff-b82a-9b17b71b8a36</td>\n",
       "      <td>Running</td>\n",
       "      <td>12.98</td>\n",
       "      <td>1:14:25</td>\n",
       "      <td>5:44</td>\n",
       "      <td>10.47</td>\n",
       "      <td>960.0</td>\n",
       "      <td>169</td>\n",
       "      <td>158.0</td>\n",
       "      <td>NaN</td>\n",
       "      <td>2018-11-01-140358.gpx</td>\n",
       "    </tr>\n",
       "    <tr>\n",
       "      <th>2018-10-27 17:01:36</th>\n",
       "      <td>972567b2-1b0e-437c-9e82-fef8078d6438</td>\n",
       "      <td>Running</td>\n",
       "      <td>13.02</td>\n",
       "      <td>1:12:50</td>\n",
       "      <td>5:36</td>\n",
       "      <td>10.73</td>\n",
       "      <td>967.0</td>\n",
       "      <td>170</td>\n",
       "      <td>154.0</td>\n",
       "      <td>NaN</td>\n",
       "      <td>2018-10-27-170136.gpx</td>\n",
       "    </tr>\n",
       "  </tbody>\n",
       "</table>\n",
       "</div>"
      ],
      "text/plain": [
       "                                              Activity Id     Type   \n",
       "Date                                                                 \n",
       "2018-11-11 14:05:12  c9627fed-14ac-47a2-bed3-2a2630c63c15  Running  \\\n",
       "2018-11-09 15:02:35  be65818d-a801-4847-a43b-2acdf4dc70e7  Running   \n",
       "2018-11-04 16:05:00  c09b2f92-f855-497c-b624-c196b3ef036c  Running   \n",
       "2018-11-01 14:03:58  bc9b612d-3499-43ff-b82a-9b17b71b8a36  Running   \n",
       "2018-10-27 17:01:36  972567b2-1b0e-437c-9e82-fef8078d6438  Running   \n",
       "\n",
       "                     Distance (km) Duration Average Pace   \n",
       "Date                                                       \n",
       "2018-11-11 14:05:12          10.44    58:40         5:37  \\\n",
       "2018-11-09 15:02:35          12.84  1:14:12         5:47   \n",
       "2018-11-04 16:05:00          13.01  1:15:16         5:47   \n",
       "2018-11-01 14:03:58          12.98  1:14:25         5:44   \n",
       "2018-10-27 17:01:36          13.02  1:12:50         5:36   \n",
       "\n",
       "                     Average Speed (km/h)  Calories Burned  Climb (m)   \n",
       "Date                                                                    \n",
       "2018-11-11 14:05:12                 10.68            774.0        130  \\\n",
       "2018-11-09 15:02:35                 10.39            954.0        168   \n",
       "2018-11-04 16:05:00                 10.37            967.0        171   \n",
       "2018-11-01 14:03:58                 10.47            960.0        169   \n",
       "2018-10-27 17:01:36                 10.73            967.0        170   \n",
       "\n",
       "                     Average Heart Rate (bpm) Notes               GPX File  \n",
       "Date                                                                        \n",
       "2018-11-11 14:05:12                     159.0   NaN  2018-11-11-140512.gpx  \n",
       "2018-11-09 15:02:35                     159.0   NaN  2018-11-09-150235.gpx  \n",
       "2018-11-04 16:05:00                     155.0   NaN  2018-11-04-160500.gpx  \n",
       "2018-11-01 14:03:58                     158.0   NaN  2018-11-01-140358.gpx  \n",
       "2018-10-27 17:01:36                     154.0   NaN  2018-10-27-170136.gpx  "
      ]
     },
     "execution_count": 9,
     "metadata": {},
     "output_type": "execute_result"
    }
   ],
   "source": [
    "df.head()"
   ]
  },
  {
   "cell_type": "code",
   "execution_count": 10,
   "metadata": {},
   "outputs": [],
   "source": [
    "df.drop(columns=['Activity Id', 'Average Pace', 'Notes', 'GPX File'], inplace=True)"
   ]
  },
  {
   "cell_type": "code",
   "execution_count": 11,
   "metadata": {},
   "outputs": [
    {
     "name": "stdout",
     "output_type": "stream",
     "text": [
      "<class 'pandas.core.frame.DataFrame'>\n",
      "DatetimeIndex: 508 entries, 2018-11-11 14:05:12 to 2012-08-22 18:53:54\n",
      "Data columns (total 7 columns):\n",
      " #   Column                    Non-Null Count  Dtype  \n",
      "---  ------                    --------------  -----  \n",
      " 0   Type                      508 non-null    object \n",
      " 1   Distance (km)             508 non-null    float64\n",
      " 2   Duration                  508 non-null    object \n",
      " 3   Average Speed (km/h)      508 non-null    float64\n",
      " 4   Calories Burned           508 non-null    float64\n",
      " 5   Climb (m)                 508 non-null    int64  \n",
      " 6   Average Heart Rate (bpm)  294 non-null    float64\n",
      "dtypes: float64(4), int64(1), object(2)\n",
      "memory usage: 31.8+ KB\n"
     ]
    }
   ],
   "source": [
    "df.info()"
   ]
  },
  {
   "cell_type": "code",
   "execution_count": 12,
   "metadata": {},
   "outputs": [
    {
     "data": {
      "text/plain": [
       "Type\n",
       "Running    459\n",
       "Cycling     29\n",
       "Walking     18\n",
       "Other        2\n",
       "Name: count, dtype: int64"
      ]
     },
     "execution_count": 12,
     "metadata": {},
     "output_type": "execute_result"
    }
   ],
   "source": [
    "df['Type'].value_counts()"
   ]
  },
  {
   "cell_type": "code",
   "execution_count": 13,
   "metadata": {},
   "outputs": [],
   "source": [
    "df_run = df[df['Type'] == 'Running'].copy()\n",
    "df_cycle = df[df['Type'] == 'Cycling'].copy()\n",
    "df_walk = df[df['Type'] == 'Walking'].copy()"
   ]
  },
  {
   "cell_type": "code",
   "execution_count": 14,
   "metadata": {},
   "outputs": [
    {
     "data": {
      "text/plain": [
       "144.985559566787"
      ]
     },
     "execution_count": 14,
     "metadata": {},
     "output_type": "execute_result"
    }
   ],
   "source": [
    "avr_run_hr = df_run['Average Heart Rate (bpm)'].mean()\n",
    "avr_run_hr"
   ]
  },
  {
   "cell_type": "code",
   "execution_count": 15,
   "metadata": {},
   "outputs": [],
   "source": [
    "avr_cycle_hr = df_cycle['Average Heart Rate (bpm)'].mean()\n",
    "avr_walk_hr = df_walk['Average Heart Rate (bpm)'].mean()"
   ]
  },
  {
   "cell_type": "code",
   "execution_count": 19,
   "metadata": {},
   "outputs": [],
   "source": [
    "df_walk['Average Heart Rate (bpm)'] = 110"
   ]
  },
  {
   "cell_type": "code",
   "execution_count": 22,
   "metadata": {},
   "outputs": [],
   "source": [
    "df_run['Average Heart Rate (bpm)'].fillna(avr_run_hr, inplace=True)"
   ]
  },
  {
   "cell_type": "code",
   "execution_count": 26,
   "metadata": {},
   "outputs": [],
   "source": [
    "df_run.drop(columns=['Type', 'Duration'], inplace=True)"
   ]
  },
  {
   "cell_type": "code",
   "execution_count": 32,
   "metadata": {},
   "outputs": [],
   "source": [
    "df_run_annual = df_run.loc[df_run.index > \"2013\"].resample('A').mean()"
   ]
  },
  {
   "cell_type": "code",
   "execution_count": 33,
   "metadata": {},
   "outputs": [
    {
     "data": {
      "text/plain": [
       "<Axes: xlabel='Date'>"
      ]
     },
     "execution_count": 33,
     "metadata": {},
     "output_type": "execute_result"
    },
    {
     "data": {
      "image/png": "[encoded data removed]",
      "text/plain": [
       "<Figure size 640x480 with 1 Axes>"
      ]
     },
     "metadata": {},
     "output_type": "display_data"
    }
   ],
   "source": [
    "df_run_annual.plot()"
   ]
  },
  {
   "cell_type": "code",
   "execution_count": 34,
   "metadata": {},
   "outputs": [
    {
     "data": {
      "text/html": [
       "<div>\n",
       "<style scoped>\n",
       "    .dataframe tbody tr th:only-of-type {\n",
       "        vertical-align: middle;\n",
       "    }\n",
       "\n",
       "    .dataframe tbody tr th {\n",
       "        vertical-align: top;\n",
       "    }\n",
       "\n",
       "    .dataframe thead th {\n",
       "        text-align: right;\n",
       "    }\n",
       "</style>\n",
       "<table border=\"1\" class=\"dataframe\">\n",
       "  <thead>\n",
       "    <tr style=\"text-align: right;\">\n",
       "      <th></th>\n",
       "      <th>Distance (km)</th>\n",
       "      <th>Average Speed (km/h)</th>\n",
       "      <th>Calories Burned</th>\n",
       "      <th>Climb (m)</th>\n",
       "      <th>Average Heart Rate (bpm)</th>\n",
       "    </tr>\n",
       "    <tr>\n",
       "      <th>Date</th>\n",
       "      <th></th>\n",
       "      <th></th>\n",
       "      <th></th>\n",
       "      <th></th>\n",
       "      <th></th>\n",
       "    </tr>\n",
       "  </thead>\n",
       "  <tbody>\n",
       "    <tr>\n",
       "      <th>2013-12-31</th>\n",
       "      <td>7.549242</td>\n",
       "      <td>11.399545</td>\n",
       "      <td>528.030303</td>\n",
       "      <td>45.166667</td>\n",
       "      <td>144.985560</td>\n",
       "    </tr>\n",
       "    <tr>\n",
       "      <th>2014-12-31</th>\n",
       "      <td>10.953043</td>\n",
       "      <td>11.519130</td>\n",
       "      <td>775.333333</td>\n",
       "      <td>65.275362</td>\n",
       "      <td>144.985560</td>\n",
       "    </tr>\n",
       "    <tr>\n",
       "      <th>2015-12-31</th>\n",
       "      <td>13.602805</td>\n",
       "      <td>10.998902</td>\n",
       "      <td>932.906138</td>\n",
       "      <td>160.170732</td>\n",
       "      <td>143.509906</td>\n",
       "    </tr>\n",
       "    <tr>\n",
       "      <th>2016-12-31</th>\n",
       "      <td>11.411667</td>\n",
       "      <td>10.837778</td>\n",
       "      <td>796.152777</td>\n",
       "      <td>133.194444</td>\n",
       "      <td>143.512084</td>\n",
       "    </tr>\n",
       "    <tr>\n",
       "      <th>2017-12-31</th>\n",
       "      <td>12.935176</td>\n",
       "      <td>10.959059</td>\n",
       "      <td>914.164706</td>\n",
       "      <td>169.376471</td>\n",
       "      <td>145.270248</td>\n",
       "    </tr>\n",
       "    <tr>\n",
       "      <th>2018-12-31</th>\n",
       "      <td>13.339063</td>\n",
       "      <td>10.777969</td>\n",
       "      <td>952.359375</td>\n",
       "      <td>191.218750</td>\n",
       "      <td>148.155799</td>\n",
       "    </tr>\n",
       "  </tbody>\n",
       "</table>\n",
       "</div>"
      ],
      "text/plain": [
       "            Distance (km)  Average Speed (km/h)  Calories Burned   Climb (m)   \n",
       "Date                                                                           \n",
       "2013-12-31       7.549242             11.399545       528.030303   45.166667  \\\n",
       "2014-12-31      10.953043             11.519130       775.333333   65.275362   \n",
       "2015-12-31      13.602805             10.998902       932.906138  160.170732   \n",
       "2016-12-31      11.411667             10.837778       796.152777  133.194444   \n",
       "2017-12-31      12.935176             10.959059       914.164706  169.376471   \n",
       "2018-12-31      13.339063             10.777969       952.359375  191.218750   \n",
       "\n",
       "            Average Heart Rate (bpm)  \n",
       "Date                                  \n",
       "2013-12-31                144.985560  \n",
       "2014-12-31                144.985560  \n",
       "2015-12-31                143.509906  \n",
       "2016-12-31                143.512084  \n",
       "2017-12-31                145.270248  \n",
       "2018-12-31                148.155799  "
      ]
     },
     "execution_count": 34,
     "metadata": {},
     "output_type": "execute_result"
    }
   ],
   "source": [
    "df_run_annual"
   ]
  },
  {
   "cell_type": "code",
   "execution_count": 35,
   "metadata": {},
   "outputs": [
    {
     "data": {
      "text/plain": [
       "array([<Axes: xlabel='Date'>, <Axes: xlabel='Date'>,\n",
       "       <Axes: xlabel='Date'>, <Axes: xlabel='Date'>,\n",
       "       <Axes: xlabel='Date'>], dtype=object)"
      ]
     },
     "execution_count": 35,
     "metadata": {},
     "output_type": "execute_result"
    },
    {
     "data": {
      "image/png": "[encoded data removed]",
      "text/plain": [
       "<Figure size 640x480 with 5 Axes>"
      ]
     },
     "metadata": {},
     "output_type": "display_data"
    }
   ],
   "source": [
    "df_run_annual.plot(subplots=True)"
   ]
  },
  {
   "cell_type": "code",
   "execution_count": 39,
   "metadata": {},
   "outputs": [],
   "source": [
    "df_cycle['Average Heart Rate (bpm)'].fillna(avr_cycle_hr, inplace=True)"
   ]
  },
  {
   "cell_type": "code",
   "execution_count": 40,
   "metadata": {},
   "outputs": [],
   "source": [
    "df_cycle.drop(columns=['Type', 'Duration'], inplace=True)"
   ]
  },
  {
   "cell_type": "code",
   "execution_count": 41,
   "metadata": {},
   "outputs": [
    {
     "data": {
      "text/html": [
       "<div>\n",
       "<style scoped>\n",
       "    .dataframe tbody tr th:only-of-type {\n",
       "        vertical-align: middle;\n",
       "    }\n",
       "\n",
       "    .dataframe tbody tr th {\n",
       "        vertical-align: top;\n",
       "    }\n",
       "\n",
       "    .dataframe thead th {\n",
       "        text-align: right;\n",
       "    }\n",
       "</style>\n",
       "<table border=\"1\" class=\"dataframe\">\n",
       "  <thead>\n",
       "    <tr style=\"text-align: right;\">\n",
       "      <th></th>\n",
       "      <th>Distance (km)</th>\n",
       "      <th>Average Speed (km/h)</th>\n",
       "      <th>Calories Burned</th>\n",
       "      <th>Climb (m)</th>\n",
       "      <th>Average Heart Rate (bpm)</th>\n",
       "    </tr>\n",
       "    <tr>\n",
       "      <th>Date</th>\n",
       "      <th></th>\n",
       "      <th></th>\n",
       "      <th></th>\n",
       "      <th></th>\n",
       "      <th></th>\n",
       "    </tr>\n",
       "  </thead>\n",
       "  <tbody>\n",
       "    <tr>\n",
       "      <th>2013-12-31</th>\n",
       "      <td>16.546667</td>\n",
       "      <td>19.936667</td>\n",
       "      <td>392.666667</td>\n",
       "      <td>106.000000</td>\n",
       "      <td>124.400000</td>\n",
       "    </tr>\n",
       "    <tr>\n",
       "      <th>2014-12-31</th>\n",
       "      <td>20.700000</td>\n",
       "      <td>20.490000</td>\n",
       "      <td>519.000000</td>\n",
       "      <td>113.000000</td>\n",
       "      <td>124.400000</td>\n",
       "    </tr>\n",
       "    <tr>\n",
       "      <th>2015-12-31</th>\n",
       "      <td>22.067000</td>\n",
       "      <td>18.198000</td>\n",
       "      <td>516.200000</td>\n",
       "      <td>190.500000</td>\n",
       "      <td>124.420000</td>\n",
       "    </tr>\n",
       "    <tr>\n",
       "      <th>2016-12-31</th>\n",
       "      <td>23.994286</td>\n",
       "      <td>20.538571</td>\n",
       "      <td>578.428571</td>\n",
       "      <td>306.142857</td>\n",
       "      <td>130.628571</td>\n",
       "    </tr>\n",
       "    <tr>\n",
       "      <th>2017-12-31</th>\n",
       "      <td>28.300000</td>\n",
       "      <td>21.213333</td>\n",
       "      <td>574.333333</td>\n",
       "      <td>245.000000</td>\n",
       "      <td>132.466667</td>\n",
       "    </tr>\n",
       "    <tr>\n",
       "      <th>2018-12-31</th>\n",
       "      <td>27.342000</td>\n",
       "      <td>16.988000</td>\n",
       "      <td>713.000000</td>\n",
       "      <td>352.400000</td>\n",
       "      <td>110.800000</td>\n",
       "    </tr>\n",
       "  </tbody>\n",
       "</table>\n",
       "</div>"
      ],
      "text/plain": [
       "            Distance (km)  Average Speed (km/h)  Calories Burned   Climb (m)   \n",
       "Date                                                                           \n",
       "2013-12-31      16.546667             19.936667       392.666667  106.000000  \\\n",
       "2014-12-31      20.700000             20.490000       519.000000  113.000000   \n",
       "2015-12-31      22.067000             18.198000       516.200000  190.500000   \n",
       "2016-12-31      23.994286             20.538571       578.428571  306.142857   \n",
       "2017-12-31      28.300000             21.213333       574.333333  245.000000   \n",
       "2018-12-31      27.342000             16.988000       713.000000  352.400000   \n",
       "\n",
       "            Average Heart Rate (bpm)  \n",
       "Date                                  \n",
       "2013-12-31                124.400000  \n",
       "2014-12-31                124.400000  \n",
       "2015-12-31                124.420000  \n",
       "2016-12-31                130.628571  \n",
       "2017-12-31                132.466667  \n",
       "2018-12-31                110.800000  "
      ]
     },
     "execution_count": 41,
     "metadata": {},
     "output_type": "execute_result"
    }
   ],
   "source": [
    "df_cycle.resample('A').mean()"
   ]
  },
  {
   "cell_type": "code",
   "execution_count": 42,
   "metadata": {},
   "outputs": [
    {
     "data": {
      "text/plain": [
       "array([<Axes: xlabel='Date'>, <Axes: xlabel='Date'>,\n",
       "       <Axes: xlabel='Date'>, <Axes: xlabel='Date'>,\n",
       "       <Axes: xlabel='Date'>], dtype=object)"
      ]
     },
     "execution_count": 42,
     "metadata": {},
     "output_type": "execute_result"
    },
    {
     "data": {
      "image/png": "[encoded data removed]",
      "text/plain": [
       "<Figure size 640x480 with 5 Axes>"
      ]
     },
     "metadata": {},
     "output_type": "display_data"
    }
   ],
   "source": [
    "df_cycle.plot(subplots=True)"
   ]
  }
 ],
 "metadata": {
  "kernelspec": {
   "display_name": "Python 3",
   "language": "python",
   "name": "python3"
  },
  "language_info": {
   "codemirror_mode": {
    "name": "ipython",
    "version": 3
   },
   "file_extension": ".py",
   "mimetype": "text/x-python",
   "name": "python",
   "nbconvert_exporter": "python",
   "pygments_lexer": "ipython3",
   "version": "3.11.0"
  }
 },
 "nbformat": 4,
 "nbformat_minor": 2
}
